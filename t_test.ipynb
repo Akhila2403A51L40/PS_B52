{
  "nbformat": 4,
  "nbformat_minor": 0,
  "metadata": {
    "colab": {
      "provenance": [],
      "authorship_tag": "ABX9TyN6yFD3mDmGrbm/U1H61IqM",
      "include_colab_link": true
    },
    "kernelspec": {
      "name": "python3",
      "display_name": "Python 3"
    },
    "language_info": {
      "name": "python"
    }
  },
  "cells": [
    {
      "cell_type": "markdown",
      "metadata": {
        "id": "view-in-github",
        "colab_type": "text"
      },
      "source": [
        "<a href=\"https://colab.research.google.com/github/Akhila2403A51L40/PS_B52/blob/main/t_test.ipynb\" target=\"_parent\"><img src=\"https://colab.research.google.com/assets/colab-badge.svg\" alt=\"Open In Colab\"/></a>"
      ]
    },
    {
      "cell_type": "code",
      "execution_count": 5,
      "metadata": {
        "colab": {
          "base_uri": "https://localhost:8080/"
        },
        "id": "x_DWDTaqyNmv",
        "outputId": "b93175e3-fc70-4cc1-aa3f-ba0ee545f0ea"
      },
      "outputs": [
        {
          "output_type": "stream",
          "name": "stdout",
          "text": [
            "Problem 1: One-sample t-test\n",
            "T-statistic: -0.3300, P-value: 0.7476\n",
            "For Problem 1: No significant difference in waiting time compared to 10 minutes.\n",
            "\n",
            "Problem 2: Two-sample independent t-test\n",
            "T-statistic: 4.0905, P-value: 0.0009\n",
            "For Problem 2: There is a significant difference in steps walked per day between the two groups.\n",
            "\n",
            "Problem 3: Paired t-test\n",
            "T-statistic: -9.1506, P-value: 0.0000\n",
            "For Problem 3: The new study method significantly improved test scores.\n",
            "\n"
          ]
        }
      ],
      "source": [
        "import scipy.stats as stats\n",
        "\n",
        "# Problem 1: One-sample t-test\n",
        "sample_wait_times = [11, 9, 10, 12, 8, 7, 13, 11, 10, 9, 8, 10]\n",
        "claimed_mean = 10\n",
        "\n",
        "t_stat1, p_value1 = stats.ttest_1samp(sample_wait_times, claimed_mean)\n",
        "print(f\"Problem 1: One-sample t-test\\nT-statistic: {t_stat1:.4f}, P-value: {p_value1:.4f}\")\n",
        "\n",
        "alpha = 0.05\n",
        "if p_value1 < alpha:\n",
        "    print(\"For Problem 1: The sample mean waiting time significantly differs from 10 minutes.\\n\")\n",
        "else:\n",
        "    print(\"For Problem 1: No significant difference in waiting time compared to 10 minutes.\\n\")\n",
        "\n",
        "# Problem 2: Two-sample independent t-test\n",
        "group_a_steps = [8500, 9000, 9200, 8800, 7600, 9500, 8900, 9100, 8400, 8600]\n",
        "group_b_steps = [7800, 8200, 8500, 8000, 7900, 7400, 7700, 8100, 8300, 7600]\n",
        "\n",
        "t_stat2, p_value2 = stats.ttest_ind(group_a_steps, group_b_steps, equal_var=False)  # Welch's t-test\n",
        "print(f\"Problem 2: Two-sample independent t-test\\nT-statistic: {t_stat2:.4f}, P-value: {p_value2:.4f}\")\n",
        "\n",
        "alpha = 0.05\n",
        "\n",
        "if p_value2 < alpha:\n",
        "    print(\"For Problem 2: There is a significant difference in steps walked per day between the two groups.\\n\")\n",
        "else:\n",
        "    print(\"For Problem 2: No significant difference in steps walked per day between the two groups.\\n\")\n",
        "\n",
        "\n",
        "# Problem 3: Paired t-test (before and after study method)\n",
        "before_scores = [72, 68, 65, 78, 80, 70, 74, 68, 82, 76]\n",
        "after_scores = [80, 75, 85, 88, 90, 78, 84, 80, 92, 86]\n",
        "\n",
        "t_stat3, p_value3 = stats.ttest_rel(before_scores, after_scores)\n",
        "print(f\"Problem 3: Paired t-test\\nT-statistic: {t_stat3:.4f}, P-value: {p_value3:.4f}\")\n",
        "\n",
        "# Interpretation of results\n",
        "alpha = 0.05\n",
        "\n",
        "if p_value3 < alpha:\n",
        "    print(\"For Problem 3: The new study method significantly improved test scores.\\n\")\n",
        "else:\n",
        "    print(\"For Problem 3: No significant improvement in test scores after using the study method.\\n\")\n"
      ]
    }
  ]
}